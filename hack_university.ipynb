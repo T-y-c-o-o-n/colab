{
  "nbformat": 4,
  "nbformat_minor": 0,
  "metadata": {
    "colab": {
      "name": "hack_university.ipynb",
      "provenance": [],
      "collapsed_sections": [],
      "authorship_tag": "ABX9TyP2wz/rtzAdR1q3KcKDUUe7",
      "include_colab_link": true
    },
    "kernelspec": {
      "name": "python3",
      "display_name": "Python 3"
    }
  },
  "cells": [
    {
      "cell_type": "markdown",
      "metadata": {
        "id": "view-in-github",
        "colab_type": "text"
      },
      "source": [
        "<a href=\"https://colab.research.google.com/github/T-y-c-o-o-n/colab/blob/master/hack_university.ipynb\" target=\"_parent\"><img src=\"https://colab.research.google.com/assets/colab-badge.svg\" alt=\"Open In Colab\"/></a>"
      ]
    },
    {
      "cell_type": "code",
      "metadata": {
        "id": "Xn07QCL1ZKc1",
        "colab_type": "code",
        "colab": {}
      },
      "source": [
        "import pandas as pd\n",
        "\n",
        "input_file = open(\"input.txt\", \"r\")\n",
        "output_file = open(\"data.csv\", \"w\")\n",
        "for str in input_file:\n",
        "  output_file.write(str.replace(' ', ','))\n",
        "input_file.close()\n",
        "output_file.close()\n",
        "\n",
        "data = pd.read_csv('data.csv')\n",
        "\n",
        "parametrs=['number', 'phone type', 'version of OS', 'application 1', 'application 2', 'application 3', 'gender',\n",
        "           'age', 'region','LTV', 'trips abroad','traffic volume', 'mobile rate', 'service 1', 'service 2']\n",
        "data.columns = parametrs\n",
        "\n",
        "for par in parametrs:\n",
        "  data[par] = [str.__hash__() for str in data[par]]\n",
        "\n",
        "\n",
        "data.to_csv('data.csv')"
      ],
      "execution_count": 0,
      "outputs": []
    },
    {
      "cell_type": "code",
      "metadata": {
        "id": "Rpv_u2xnf376",
        "colab_type": "code",
        "colab": {}
      },
      "source": [
        "data"
      ],
      "execution_count": 0,
      "outputs": []
    },
    {
      "cell_type": "code",
      "metadata": {
        "id": "1CEPhw84Byhg",
        "colab_type": "code",
        "colab": {}
      },
      "source": [
        "X_train = data[0:70]\n",
        "Y_train = [sum(data.loc[str_ind])%2 for str_ind in range(len(data))][0:70]\n",
        "\n",
        "X_test = data[70:100]\n",
        "Y_test = [sum(data.loc[str_ind])%2 for str_ind in range(len(data))][70:100]"
      ],
      "execution_count": 0,
      "outputs": []
    },
    {
      "cell_type": "code",
      "metadata": {
        "id": "6SFPBJscCBmU",
        "colab_type": "code",
        "colab": {}
      },
      "source": [
        "X_train\n",
        "Y_train"
      ],
      "execution_count": 0,
      "outputs": []
    },
    {
      "cell_type": "code",
      "metadata": {
        "id": "WqIMlSnmjUOF",
        "colab_type": "code",
        "colab": {}
      },
      "source": [
        "from catboost import CatBoostClassifier\n",
        "\n",
        "model = CatBoostClassifier(\n",
        "    iterations = 2,\n",
        "    max_depth = 1\n",
        ").fit(X_train, Y_train);\n",
        "Y_ans_cb = model.predict_proba(X_test)[:, 1]\n",
        "print(X_trains.shape, Y_ans_cb.shape)\n",
        "Y_ans = (Y_ans_cb > 0.5).astype(int) \n",
        "\n",
        "summa = sum([(Y_ans[i] == Y_test[i]).astype(int) for i in range (29)])\n",
        "\n",
        "print(\"result:\")\n",
        "print(summa / 29)"
      ],
      "execution_count": 0,
      "outputs": []
    },
    {
      "cell_type": "code",
      "metadata": {
        "id": "Su0yIbHB5uxy",
        "colab_type": "code",
        "colab": {}
      },
      "source": [
        "import numpy as np\n",
        "x1 = 30\n",
        "x0 = 10\n",
        "test_data_size = 500\n",
        "\n",
        "train_x = []\n",
        "train_y = []\n",
        "def func():\n",
        "  # for _ in range(test_data_size):\n",
        "  #     x = np.random.rand() * (x1 - x0) - x0\n",
        "  #     if x < -1:\n",
        "  #         y = -1 / x\n",
        "  #     elif x > 1:\n",
        "  #         y = 1 / x\n",
        "  #     else:\n",
        "  #         y = 0\n",
        "  noise = np.random.normal(scale=30, size=(test_data_size, 1))\n",
        "  train_input = np.random.rand(test_data_size, 1) * (x1-x0) - x0\n",
        "  train_output = 5*train_input + noise\n",
        "  return train_input, train_output\n",
        "      # train_y.append([y])\n",
        "      # train_x.append([x])\n",
        "  # return np.array(train_x), np.array(train_y)"
      ],
      "execution_count": 0,
      "outputs": []
    },
    {
      "cell_type": "code",
      "metadata": {
        "id": "txPAKusb6rzy",
        "colab_type": "code",
        "colab": {
          "base_uri": "https://localhost:8080/",
          "height": 295
        },
        "outputId": "7b33a050-a1ba-468d-c6db-03ce1e17a325"
      },
      "source": [
        "from matplotlib import pyplot as plt\n",
        "train_input, train_output = func()\n",
        "plt.scatter(train_input, train_output)\n",
        "plt.xlabel(\"x\")\n",
        "plt.ylabel(\"y\")\n",
        "plt.title(\"ZALUPA\")\n",
        "plt.show()"
      ],
      "execution_count": 149,
      "outputs": [
        {
          "output_type": "display_data",
          "data": {
            "image/png": "[encoded data removed]",
            "text/plain": [
              "<Figure size 432x288 with 1 Axes>"
            ]
          },
          "metadata": {
            "tags": []
          }
        }
      ]
    },
    {
      "cell_type": "code",
      "metadata": {
        "id": "2IzeuYHY6hQH",
        "colab_type": "code",
        "colab": {}
      },
      "source": [
        "model = CatBoostClassifier(\n",
        "    iterations = 200,\n",
        "    max_depth = 5\n",
        ").fit(train_input, train_output);"
      ],
      "execution_count": 0,
      "outputs": []
    },
    {
      "cell_type": "code",
      "metadata": {
        "id": "09QKt1pr7t4h",
        "colab_type": "code",
        "colab": {
          "base_uri": "https://localhost:8080/",
          "height": 313
        },
        "outputId": "7ae2d223-b4cd-48ca-e6ba-3c5e771c9b50"
      },
      "source": [
        "test_x, test_y = func()\n",
        "ansY = model.predict_proba(test_x)\n",
        "print(test_x.shape, ansY.shape)\n",
        "plt.scatter(test_x, ansY[2])\n",
        "plt.xlabel(\"x\")\n",
        "plt.ylabel(\"y\")\n",
        "plt.title(\"ZALUPA\")\n",
        "plt.show()"
      ],
      "execution_count": 156,
      "outputs": [
        {
          "output_type": "stream",
          "text": [
            "(500, 1) (500, 500)\n"
          ],
          "name": "stdout"
        },
        {
          "output_type": "display_data",
          "data": {
            "image/png": "[encoded data removed]",
            "text/plain": [
              "<Figure size 432x288 with 1 Axes>"
            ]
          },
          "metadata": {
            "tags": []
          }
        }
      ]
    }
  ]
}